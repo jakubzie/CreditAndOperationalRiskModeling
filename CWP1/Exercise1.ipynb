{
 "cells": [
  {
   "cell_type": "code",
   "execution_count": 349,
   "metadata": {},
   "outputs": [],
   "source": [
    "import pandas as pd\n",
    "import numpy as np\n",
    "import warnings\n",
    "import scipy.io.arff as arff\n",
    "from sklearn.discriminant_analysis import LinearDiscriminantAnalysis\n",
    "from sklearn.preprocessing import MultiLabelBinarizer\n",
    "warnings.filterwarnings('ignore')"
   ]
  },
  {
   "cell_type": "code",
   "execution_count": 350,
   "metadata": {},
   "outputs": [],
   "source": [
    "whole_data = pd.DataFrame(arff.loadarff('1year.arff')[0])\n",
    "whole_data = whole_data.replace(b'1', \"1\")\n",
    "whole_data = whole_data.replace(b'0', \"0\")\n",
    "bankrupt = whole_data[whole_data['class'] == \"1\"]\n",
    "non_bankrupt = whole_data[whole_data['class'] == \"0\"]\n",
    "random_b = bankrupt.sample(n=100)\n",
    "random_nb = non_bankrupt.sample(n=100)"
   ]
  },
  {
   "cell_type": "code",
   "execution_count": 351,
   "metadata": {},
   "outputs": [
    {
     "name": "stdout",
     "output_type": "stream",
     "text": [
      "Poprawność klasyfikacji: 60.00%\n"
     ]
    }
   ],
   "source": [
    "vars =  ['Attr3', 'Attr6', 'Attr7', 'Attr8', 'Attr9','class']\n",
    "vars_attr = vars[:-1]\n",
    "data = pd.concat([random_b[vars], random_nb[vars]])\n",
    "data.dropna(inplace=True)\n",
    "data[\"Z\"] = 1.2*data[vars[0]] + 1.4*data[vars[1]] + 3.3*data[vars[2]] + 0.6*data[vars[3]] + 0.99*data[vars[4]]\n",
    "data[\"class_prediction\"] = np.where(data[\"Z\"] < 2.67, \"1\", \"0\") \n",
    "count = len(data[((data['class'] == \"1\") & (data['class_prediction'] == '1')) | ((data['class'] == \"0\") & (data['class_prediction'] == '0'))])\n",
    "print(\"Poprawność klasyfikacji: {:.2%}\".format(count/len(data)))"
   ]
  },
  {
   "cell_type": "code",
   "execution_count": 352,
   "metadata": {},
   "outputs": [],
   "source": [
    "X = data.drop(['class', 'Z', 'class_prediction'], axis=1)\n",
    "Y = pd.DataFrame(data['class'])\n",
    "lda = LinearDiscriminantAnalysis()\n",
    "lda.fit(X, Y)\n",
    "data['lda_z'] = lda.transform(data[vars_attr])\n",
    "data['lda_predicted_class'] = lda.predict(data[vars_attr])\n",
    "coef = np.round(lda.coef_, 2)\n",
    "intercept = np.round(lda.intercept_, 2)"
   ]
  },
  {
   "cell_type": "code",
   "execution_count": 353,
   "metadata": {},
   "outputs": [
    {
     "name": "stdout",
     "output_type": "stream",
     "text": [
      "Poprawność klasyfikacji = 68.50%\n",
      "Wzór funkcji dyskryminacyjnej: -0.3 * X1 + -0.69 * X2 + -1.9 * X3 + 0.01 * X4 + -0.08 * X5 + 0.29\n"
     ]
    }
   ],
   "source": [
    "print('Poprawność klasyfikacji = {:.2%}'.format(np.sum((data['class'] == data['lda_predicted_class'])) / len(data)))\n",
    "print('Wzór funkcji dyskryminacyjnej:',coef[0][0], '* X1 +', coef[0][1], '* X2 +', coef[0][2], '* X3 +', coef[0][3], '* X4 +', coef[0][4], '* X5 +', intercept[0])"
   ]
  },
  {
   "cell_type": "code",
   "execution_count": 354,
   "metadata": {},
   "outputs": [
    {
     "name": "stdout",
     "output_type": "stream",
     "text": [
      "Poprawność klasyfikacji: 63.50%\n"
     ]
    }
   ],
   "source": [
    "#Model Springate'a\n",
    "#X1 - kapitał pracujący / aktywa ogółem - X3\n",
    "#X2 - zysk przed spłatą odsetek i podatkiem / aktywa ogółem - X7\n",
    "#X3 - wynik brutto / zobowiązania krótkoterm - X12\n",
    "#X4 - przychody ze sprzedaży / aktywa ogółem - X1\n",
    "vars =  ['Attr3', 'Attr7', 'Attr12', 'Attr1','class']\n",
    "vars_attr = vars[:-1]\n",
    "data = pd.concat([random_b[vars], random_nb[vars]])\n",
    "data.dropna(inplace=True)\n",
    "\n",
    "data[\"Z\"] = 1.03*data[vars[0]] + 3.07*data[vars[1]] + 0.66*data[vars[2]] + 0.4*data[vars[3]]\n",
    "data[\"class_prediction\"] = np.where(data[\"Z\"] <= 0.862, \"1\", \"0\")\n",
    "\n",
    "count = len(data[((data['class'] == \"1\") & (data['class_prediction'] == '1')) | ((data['class'] == \"0\") & (data['class_prediction'] == '0'))])\n",
    "print(\"Poprawność klasyfikacji: {:.2%}\".format(count/len(data)))\n"
   ]
  },
  {
   "cell_type": "code",
   "execution_count": 355,
   "metadata": {},
   "outputs": [
    {
     "name": "stdout",
     "output_type": "stream",
     "text": [
      "Poprawność klasyfikacji: 65.61%\n"
     ]
    }
   ],
   "source": [
    "#Model B. Prusaka\n",
    "#X1 - rentowność operacyjna aktywów - zyski operacyjne/aktywa ogółem - X22\n",
    "#X2 - relacja kosztów operacyjnych do zobowiązań - koszty operacyjne/zobowiązania ogółem - X34\n",
    "#X3 - płynność bieżąca - aktywa obrotowe/zobowiązania krótkoterminowe - X4\n",
    "#X4 - rentowność operacyjna sprzedaży - zyski z działalności operacyjnej/przychody netto ze sprzedaży - X42\n",
    "vars =  ['Attr22', 'Attr34', 'Attr4', 'Attr42','class']\n",
    "vars_attr = vars[:-1]\n",
    "data = pd.concat([random_b[vars], random_nb[vars]])\n",
    "data.dropna(inplace=True)\n",
    "\n",
    "data[\"Z\"] = 6.5245*data[vars[0]] + 0.148*data[vars[1]] + 0.4061*data[vars[2]] + 2.1754*data[vars[3]] - 1.5685\n",
    "data[\"class_prediction\"] = np.where(data[\"Z\"] <= -0.13, \"1\", np.where(data[\"Z\"] > 0.65, \"0\", \"2\"))\n",
    "data = data[data[\"class_prediction\"] != \"2\"]\n",
    "\n",
    "count = len(data[((data['class'] == \"1\") & (data['class_prediction'] == '1')) | ((data['class'] == \"0\") & (data['class_prediction'] == '0'))])\n",
    "print(\"Poprawność klasyfikacji: {:.2%}\".format(count/len(data)))"
   ]
  }
 ],
 "metadata": {
  "kernelspec": {
   "display_name": "Python 3",
   "language": "python",
   "name": "python3"
  },
  "language_info": {
   "codemirror_mode": {
    "name": "ipython",
    "version": 3
   },
   "file_extension": ".py",
   "mimetype": "text/x-python",
   "name": "python",
   "nbconvert_exporter": "python",
   "pygments_lexer": "ipython3",
   "version": "3.11.5"
  }
 },
 "nbformat": 4,
 "nbformat_minor": 2
}

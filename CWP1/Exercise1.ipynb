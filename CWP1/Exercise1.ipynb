{
 "cells": [
  {
   "cell_type": "markdown",
   "metadata": {},
   "source": [
    "## Modelowanie ryzyka kredytowego i operacyjnego - Zadanie 1\n",
    "\n",
    "### Część teoretyczna:\n",
    "Ryzyko kredytowe to ryzyko (nieznany wynik przedsięwzięcia) wynikające z możliwości niedotrzymania warunków umowy kredytowej przez jedną ze stron (np. niespłacenie kredytu przez kredytobiorcę) lub zmianę wiarygodności kredytowej.\n",
    "\n",
    "Analiza dyskryminacyjna jest metodą podziału obiektów na grupy pod względem zmiennej objaśnianej. Pozwala ona wybrać najlepsze zmienne objaśniające przydział obiektów do konkretnej grupy. Może być przeprowadzona np. poprzez przedstawienie obiektów podzielonych na grupy względem realnej wartości zmiennej objaśnianej w przestrzeni a następnie takie dobieranie zmiennych objaśniających, aby rozkłady grup były jak najbardziej różne. Taka analiza może być przeprowadzona poprzez analizowanie wszystkich niewybranych zmiennych i wybieranie najlepszych lub wybór i analizę wszystkich zmiennych, spośród których odrzucamy kolejne najgorsze.\\\n",
    "Jest ona przydatna w analizie ryzyka kredytowego ponieważ dzięki niej można na podstawie pewnego zbioru uczącego dostarczającego informacje np. o upadłości firm wyznaczyć model, który na podstawie wybranych zmiennych i informacji o upadłości pozwala przewidywać czy firma jest zagrożona upadłością czy nie. \n",
    "\n",
    "Model Altmana to model służący do prognozowania upadłości firm.\\\n",
    "Ma on postać $Z = 1.2 X_1 + 1.4 X_2 +3.3 X_3 + 0.6 X_4 + 0.99 X_5$, gdzie\n",
    "- $X_1 = \\frac{\\text{aktywa obrotowe}}{\\text{aktywa ogółem}}$\n",
    "\n",
    "- $X_2 = \\frac{\\text{zysk zatrzymany}}{\\text{aktywa ogółem}}$\n",
    "- $X_3 = \\frac{\\text{zysk przed spłatą odsetek i podatkiem}}{\\text{aktywa ogółem}}$\n",
    "- $X_4 = \\frac{\\text{wartość rynkowa kapitału akcyjnego}}{\\text{wartość księgowa zadłużenia}}$\n",
    "- $X_5 = \\frac{\\text{przychody ze sprzedaży}}{\\text{aktywa ogółem}}$\n",
    "\n",
    "W zależności od wyników Z przyjmuje się różne prawdopodobieństwo bankructwa (bankructwo mało prawdopodobne, bardzo prawdopodobne, szara strefa).\\\n",
    "Ma on pewne ograniczenia: model jest liniowy i bardzo prosty, co mogło lepiej sprawdzać się w latach jego powstawania, jednak obecnie działania firm bardzo się różnią, przede wszystkim wiele firm działa globalnie i zmaga się z innymi zagrożeniami. Ponadto został zbudowany na danych z firm działających w Ameryce w latach 50-70, zatem raczej nie będzie on aż tak dokładny w obecnych czasach. Ponadto model bazuje na danych księgowych, które udostępniane są zwykle raz w roku lub kwartalnie, w zależności od organizacji.\n"
   ]
  },
  {
   "cell_type": "code",
   "execution_count": 349,
   "metadata": {},
   "outputs": [],
   "source": [
    "import pandas as pd\n",
    "import numpy as np\n",
    "import warnings\n",
    "import scipy.io.arff as arff\n",
    "from sklearn.discriminant_analysis import LinearDiscriminantAnalysis\n",
    "from sklearn.preprocessing import MultiLabelBinarizer\n",
    "warnings.filterwarnings('ignore')"
   ]
  },
  {
   "cell_type": "code",
   "execution_count": 350,
   "metadata": {},
   "outputs": [],
   "source": [
    "#wczytanie całości danych\n",
    "whole_data = pd.DataFrame(arff.loadarff('1year.arff')[0])\n",
    "#zamiana klasy na 0 i 1\n",
    "whole_data = whole_data.replace(b'1', \"1\")\n",
    "whole_data = whole_data.replace(b'0', \"0\")\n",
    "#podział danych na bankrutów i niebankrutów\n",
    "bankrupt = whole_data[whole_data['class'] == \"1\"]\n",
    "non_bankrupt = whole_data[whole_data['class'] == \"0\"]\n",
    "#wybranie po 100 firm z obu grup\n",
    "random_b = bankrupt.sample(n=100)\n",
    "random_nb = non_bankrupt.sample(n=100)"
   ]
  },
  {
   "cell_type": "code",
   "execution_count": 351,
   "metadata": {},
   "outputs": [
    {
     "name": "stdout",
     "output_type": "stream",
     "text": [
      "Poprawność klasyfikacji: 60.00%\n"
     ]
    }
   ],
   "source": [
    "#wybór zmiennych ze zbioru, zgodnych ze zmiennymi w modelu Altmana\n",
    "vars =  ['Attr3', 'Attr6', 'Attr7', 'Attr8', 'Attr9','class']\n",
    "vars_attr = vars[:-1]\n",
    "#połączenie próbek danych i pozbycie się brakujących wartości\n",
    "data = pd.concat([random_b[vars], random_nb[vars]])\n",
    "data.dropna(inplace=True)\n",
    "#wyznaczenie Z Altmana i predykcji na jej podstawie\n",
    "data[\"Z\"] = 1.2*data[vars[0]] + 1.4*data[vars[1]] + 3.3*data[vars[2]] + 0.6*data[vars[3]] + 0.99*data[vars[4]]\n",
    "data[\"class_prediction\"] = np.where(data[\"Z\"] < 2.67, \"1\", \"0\")\n",
    "#obliczenie procentowej poprawności klasyfikacji\n",
    "count = len(data[((data['class'] == \"1\") & (data['class_prediction'] == '1')) | ((data['class'] == \"0\") & (data['class_prediction'] == '0'))])\n",
    "print(\"Poprawność klasyfikacji: {:.2%}\".format(count/len(data)))"
   ]
  },
  {
   "cell_type": "markdown",
   "metadata": {},
   "source": [
    "Oryginalny model nie jest zbyt skutecznym narzędziem jeśli chodzi o predykcję upadłości. Jest to spowodowane prawdopodobnie tym, że model został zbudowany na podstawie amerykańskich firm z lat 50-70. Obecnie firmy podlegają innym zagrożeniom i szansom, działają również w trochę inny sposób. Różnica w skuteczności może wynikać właśnie z tych różnic między firmami sprzed lat a obecnymi."
   ]
  },
  {
   "cell_type": "code",
   "execution_count": 352,
   "metadata": {},
   "outputs": [],
   "source": [
    "#przeprowadzenie LDA na podstawie zmiennych zgodnych z modelem Altmana i wyznaczenie nowego modelu \n",
    "X = data.drop(['class', 'Z', 'class_prediction'], axis=1)\n",
    "Y = pd.DataFrame(data['class'])\n",
    "lda = LinearDiscriminantAnalysis()\n",
    "lda.fit(X, Y)\n",
    "data['lda_z'] = lda.transform(data[vars_attr])\n",
    "data['lda_predicted_class'] = lda.predict(data[vars_attr])\n",
    "coef = np.round(lda.coef_, 2)\n",
    "intercept = np.round(lda.intercept_, 2)"
   ]
  },
  {
   "cell_type": "code",
   "execution_count": 353,
   "metadata": {},
   "outputs": [
    {
     "name": "stdout",
     "output_type": "stream",
     "text": [
      "Poprawność klasyfikacji = 68.50%\n",
      "Wzór funkcji dyskryminacyjnej: -0.3 * X1 + -0.69 * X2 + -1.9 * X3 + 0.01 * X4 + -0.08 * X5 + 0.29\n"
     ]
    }
   ],
   "source": [
    "#obliczenie poprawności klasyfikacji i przedstawienie wzoru nowego modelu\n",
    "print('Poprawność klasyfikacji = {:.2%}'.format(np.sum((data['class'] == data['lda_predicted_class'])) / len(data)))\n",
    "print('Wzór funkcji dyskryminacyjnej:',coef[0][0], '* X1 +', coef[0][1], '* X2 +', coef[0][2], '* X3 +', coef[0][3], '* X4 +', coef[0][4], '* X5 +', intercept[0])"
   ]
  },
  {
   "cell_type": "markdown",
   "metadata": {},
   "source": [
    "Nowy model zbudowany dla współczesnych, polskich firm, znacząco różni się od pierwotnego modelu Altmana. Różnice te oznaczają wpływ danych zmiennych na określenie wartości Z, która wpływa na określenie bankructwa. Nowy model wyznaczony z pomocą LDA określa inny wpływ kolejnych zmiennych, uwzględnia również pewną stałą.\\\n",
    "Nowy model jest też bardziej skuteczny od pierwotnego, aczkolwiek nie jest to wielka różnica. Zmienia się ona również przy poszczególnych próbach obliczenia nowego modelu, ponieważ korzystamy z LDA, która za każdym razem może być przeprowadzona przez algorytm w trochę inny sposób, dając inne wyniki."
   ]
  },
  {
   "cell_type": "markdown",
   "metadata": {},
   "source": [
    "### W dalszej części wykorzystam modele Springate'a oraz B. Prusaka:\n",
    "#### Model Springate'a\n",
    "- $X_1 = \\frac{\\text{kapitał pracujący}}{\\text{aktywa ogółem}}$ - $X_3$ w naszym zbiorze danych\n",
    "\n",
    "- $X_2 = \\frac{\\text{zysk przed spłatą odsetek i podatkiem}}{\\text{aktywa ogółem}}$ - $X_7$ w naszym zbiorze danych\n",
    "- $X_3 = \\frac{\\text{wynik brutto}}{\\text{zobowiązania krótkoreminowe}}$ - $X_{12}$ w naszym zbiorze danych\n",
    "- $X_4 = \\frac{\\text{przychody ze sprzedaży}}{\\text{aktywa ogółem}}$ - $X_1$ w naszym zbiorze danych\n",
    "\n",
    "Model ma postać: $Z=1.03 X_1 + 3.07 X_2 + 0.66 X_3 + 0.4 X_4$"
   ]
  },
  {
   "cell_type": "code",
   "execution_count": 354,
   "metadata": {},
   "outputs": [
    {
     "name": "stdout",
     "output_type": "stream",
     "text": [
      "Poprawność klasyfikacji: 63.50%\n"
     ]
    }
   ],
   "source": [
    "vars =  ['Attr3', 'Attr7', 'Attr12', 'Attr1','class']\n",
    "vars_attr = vars[:-1]\n",
    "data = pd.concat([random_b[vars], random_nb[vars]])\n",
    "data.dropna(inplace=True)\n",
    "\n",
    "data[\"Z\"] = 1.03*data[vars[0]] + 3.07*data[vars[1]] + 0.66*data[vars[2]] + 0.4*data[vars[3]]\n",
    "data[\"class_prediction\"] = np.where(data[\"Z\"] <= 0.862, \"1\", \"0\")\n",
    "\n",
    "count = len(data[((data['class'] == \"1\") & (data['class_prediction'] == '1')) | ((data['class'] == \"0\") & (data['class_prediction'] == '0'))])\n",
    "print(\"Poprawność klasyfikacji: {:.2%}\".format(count/len(data)))\n"
   ]
  },
  {
   "cell_type": "markdown",
   "metadata": {},
   "source": [
    "#### Model B. Prusaka\n",
    "- $X_1 \\text{ (rentowność operacyjna aktywów)}= \\frac{\\text{zyski operacyjne}}{\\text{aktywa ogółem}}$ - $X_{22}$ w naszym zbiorze danych\n",
    "\n",
    "- $X_2 \\text{ (relacja kosztów operacyjnych do zobowiązań)}= \\frac{\\text{koszty operacyjne}}{\\text{zobowiązania ogółem}}$ - $X_{34}$ w naszym zbiorze danych\n",
    "- $X_3 \\text{ (płynność bieżąca)}= \\frac{\\text{aktywa obrotowe}}{\\text{zobowiązania krótkoreminowe}}$ - $X_{4}$ w naszym zbiorze danych\n",
    "- $X_4 \\text{ (rentowność operacyjna sprzedaży)}= \\frac{\\text{zyski z działalności operacyjnej}}{\\text{przychody netto ze sprzedaży}}$ - $X_{42}$ w naszym zbiorze danych\n",
    "\n",
    "Model ma postać: $Z=6.5245 X_1 + 0.148 X_2 + 0.4061 X_3 + 2.1754 X_4 - 1.5685$"
   ]
  },
  {
   "cell_type": "code",
   "execution_count": 355,
   "metadata": {},
   "outputs": [
    {
     "name": "stdout",
     "output_type": "stream",
     "text": [
      "Poprawność klasyfikacji: 65.61%\n"
     ]
    }
   ],
   "source": [
    "#Model B. Prusaka\n",
    "#X1 - rentowność operacyjna aktywów - zyski operacyjne/aktywa ogółem - X22\n",
    "#X2 - relacja kosztów operacyjnych do zobowiązań - koszty operacyjne/zobowiązania ogółem - X34\n",
    "#X3 - płynność bieżąca - aktywa obrotowe/zobowiązania krótkoterminowe - X4\n",
    "#X4 - rentowność operacyjna sprzedaży - zyski z działalności operacyjnej/przychody netto ze sprzedaży - X42\n",
    "vars =  ['Attr22', 'Attr34', 'Attr4', 'Attr42','class']\n",
    "vars_attr = vars[:-1]\n",
    "data = pd.concat([random_b[vars], random_nb[vars]])\n",
    "data.dropna(inplace=True)\n",
    "\n",
    "data[\"Z\"] = 6.5245*data[vars[0]] + 0.148*data[vars[1]] + 0.4061*data[vars[2]] + 2.1754*data[vars[3]] - 1.5685\n",
    "data[\"class_prediction\"] = np.where(data[\"Z\"] <= -0.13, \"1\", np.where(data[\"Z\"] > 0.65, \"0\", \"2\"))\n",
    "data = data[data[\"class_prediction\"] != \"2\"]\n",
    "\n",
    "count = len(data[((data['class'] == \"1\") & (data['class_prediction'] == '1')) | ((data['class'] == \"0\") & (data['class_prediction'] == '0'))])\n",
    "print(\"Poprawność klasyfikacji: {:.2%}\".format(count/len(data)))"
   ]
  }
 ],
 "metadata": {
  "kernelspec": {
   "display_name": "Python 3",
   "language": "python",
   "name": "python3"
  },
  "language_info": {
   "codemirror_mode": {
    "name": "ipython",
    "version": 3
   },
   "file_extension": ".py",
   "mimetype": "text/x-python",
   "name": "python",
   "nbconvert_exporter": "python",
   "pygments_lexer": "ipython3",
   "version": "3.10.3"
  }
 },
 "nbformat": 4,
 "nbformat_minor": 2
}

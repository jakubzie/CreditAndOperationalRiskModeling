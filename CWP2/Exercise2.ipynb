{
 "cells": [
  {
   "cell_type": "markdown",
   "metadata": {},
   "source": [
    "Z wykorzystaniem modelu CreditMetrics wyznaczyć 99,9% VaR i ES dla portfela składającego się z portfela trzech poniżej opisanych obligacji skarbowych:\n",
    "\n",
    "    3-letnia obligacja o ratingu A (cena wykupu 100 000 zł, subordinated),\n",
    "    5-letnia obligacja o ratingu B (cena wykupu 50 000 zł, roczne kupony 5000 zł, senior secured),\n",
    "    2-letnia obligacja o ratingu CCC (cena wykupu 50 000 zł, roczne kupony 10 000 zł, senior unsecured).\n",
    "\n",
    "W badaniu założyć, że współczynniki korelacji między inwestycjami w portfelu wynoszą: r12 = 0.2, r13 = 0.15, r23 = 0.4.\n",
    "\n",
    "Zbadać, w jaki sposób zmieniłyby się wyniki, jeśli założylibyśmy, że inwestycje w portfelu nie są skorelowane. Jak uzyskane wyniki łączą się z pojęciem \"dywersyfikacji ryzyka\".\n",
    "Na podstawie dokumentacji technicznej CreditMetrics na przykładzie opisać, jakie są sposoby wyznaczania korelacji w modelu."
   ]
  },
  {
   "cell_type": "code",
   "execution_count": 1,
   "metadata": {},
   "outputs": [],
   "source": [
    "import numpy as np\n",
    "import pandas as pd"
   ]
  },
  {
   "cell_type": "code",
   "execution_count": 2,
   "metadata": {},
   "outputs": [],
   "source": [
    "#macierz przejścia dla ratingów\n",
    "mp = np.array([\n",
    "    [93.40, 5.94, 0.64, 0.00, 0.02, 0.00, 0.00, 0.00],\n",
    "    [1.61, 90.55, 7.46, 0.26, 0.09, 0.01, 0.00, 0.02],\n",
    "    [0.07, 2.28, 92.44, 4.63, 0.45, 0.12, 0.01, 0.00],\n",
    "    [0.05, 0.26, 5.51, 88.48, 4.76, 0.71, 0.08, 0.15],\n",
    "    [0.02, 0.05, 0.42, 5.16, 86.91, 5.91, 0.24, 1.29],\n",
    "    [0.00, 0.04, 0.13, 0.54, 6.35, 84.22, 1.91, 6.81],\n",
    "    [0.00, 0.00, 0.00, 0.62, 2.05, 4.08, 69.20, 24.05],\n",
    "    [0.00, 0.00, 0.00, 0.00, 0.00, 0.00, 0.00, 100.00]\n",
    "])\n",
    "mp = mp/100\n",
    "mp = pd.DataFrame(mp, columns = ['AAA', 'AA', 'A', 'BBB', 'BB', 'B', 'CCC', 'Def'],\n",
    "                  index = ['AAA', 'AA', 'A', 'BBB', 'BB', 'B', 'CCC', 'Def'])"
   ]
  },
  {
   "cell_type": "code",
   "execution_count": 3,
   "metadata": {},
   "outputs": [],
   "source": [
    "from scipy.stats import zscore\n",
    "#stworzenie kumulatywnej macierzy przejścia\n",
    "mp_cumulative = mp.cumsum(axis=1)\n",
    "mp_cumulative = mp_cumulative.div(mp_cumulative.iloc[:, -1], axis=0)"
   ]
  },
  {
   "cell_type": "code",
   "execution_count": 11,
   "metadata": {},
   "outputs": [],
   "source": [
    "import scipy.stats as st\n",
    "mp_z = mp_cumulative.copy()\n",
    "mp_z = 1 - mp_z\n",
    "mp_z = -st.norm.ppf(mp_z)\n",
    "mp_z = pd.DataFrame(mp_z, columns=mp.columns, index=mp.index)"
   ]
  },
  {
   "cell_type": "code",
   "execution_count": 31,
   "metadata": {},
   "outputs": [
    {
     "data": {
      "text/plain": [
       "[1,\n",
       " -3.1946510537632724,\n",
       " -1.986300204129428,\n",
       " 1.6248243080822067,\n",
       " 2.5240846269919914,\n",
       " 3.011453758499792,\n",
       " 3.719016485455709,\n",
       " inf,\n",
       " inf]"
      ]
     },
     "execution_count": 31,
     "metadata": {},
     "output_type": "execute_result"
    }
   ],
   "source": [
    "[1,*mp_z.loc['A'][:]]\n"
   ]
  },
  {
   "cell_type": "code",
   "execution_count": 5,
   "metadata": {},
   "outputs": [],
   "source": [
    "#macierz stóp zwrotu ogółem\n",
    "msz = pd.DataFrame([[3.60, 4.17, 4.73, 5.12],\n",
    "                    [3.65, 4.22, 4.78, 5.17],\n",
    "                    [3.72, 4.32, 4.93, 5.32],\n",
    "                    [4.10, 4.67, 5.25, 5.63],\n",
    "                    [5.55, 6.02, 6.78, 7.27],\n",
    "                    [6.05, 7.02, 8.03, 8.52],\n",
    "                    [15.05, 15.02, 14.03, 13.52]],\n",
    "                    columns = ['1Y', '2Y', '3Y', '4Y'],\n",
    "                    index = ['AAA', 'AA', 'A', 'BBB', 'BB', 'B', 'CCC'])"
   ]
  },
  {
   "cell_type": "code",
   "execution_count": 6,
   "metadata": {},
   "outputs": [],
   "source": [
    "#stopa odzysku według klasy obligacji\n",
    "data = {'Mean': [53.80, 51.13, 38.52, 32.74, 17.09],\n",
    "        'SD': [26.86, 25.45, 23.81, 20.18, 10.90]}\n",
    "mso = pd.DataFrame(data,index = [\"Senior Secured\", \"Senior Unsecured\",\n",
    "                                 \"Senior Subordinated\", \"Subordinated\", \"Junior Subordinated\"])"
   ]
  },
  {
   "cell_type": "code",
   "execution_count": 7,
   "metadata": {},
   "outputs": [],
   "source": [
    "mcorr = pd.DataFrame([[1.0, 0.2, 0.15],\n",
    "                      [0.2, 1.0, 0.4],\n",
    "                      [0.15, 0.4, 1.0]],\n",
    "                      columns=['r1', 'r2', 'r3'],\n",
    "                      index=['r1', 'r2', 'r3'])"
   ]
  },
  {
   "cell_type": "code",
   "execution_count": 8,
   "metadata": {},
   "outputs": [],
   "source": [
    "valA = 100000 #subordinated\n",
    "valB = 50000 #senior secured\n",
    "couponB = 5000\n",
    "valCCC = 50000 #senior unsecured\n",
    "couponCCC = 10000"
   ]
  },
  {
   "cell_type": "code",
   "execution_count": 45,
   "metadata": {},
   "outputs": [],
   "source": [
    "import numpy as np\n",
    "# Symulacja scenariuszy\n",
    "np.random.seed(123)\n",
    "num_scenarios = 1000\n",
    "scenarios = np.random.multivariate_normal(mean=np.zeros(len(mcorr)), cov=mcorr, size=num_scenarios)\n",
    "scenarios = pd.DataFrame(scenarios, columns=[\"Obligacja1\",\"Obligacja2\",\"Obligacja3\"])\n",
    "\n",
    "#ten zakres odpowiada jedynie przejściom z BBB, trzeba to rozszerzyć na wszystkie możliwe\n",
    "value_rangeA = [-float('inf'),-3.19, -1.99, 1.63, 2.52, 3.01, 3.72, 3.73, float('inf')]\n",
    "value_rangeB = [-float('inf'),-3.5, -3.35, -2.93, -2.45, -1.47, 1.36, 1.49, float('inf')]\n",
    "value_rangeCCC = [-float('inf'),-4, -3.5, -3, -2.50, -1.93, -1.49, 0.70, float('inf')]\n",
    "letters = ['Def', 'CCC', 'B', 'BB', 'BBB', 'A', 'AA', 'AAA']\n",
    "letters = letters[::-1]\n",
    "\n",
    "# scenarios['Obl1'] = pd.cut(scenarios['Obligacja1'], bins=np.unique([-float('inf'),*mp_z.loc['A'].values]), labels=letters[:-2])\n",
    "# scenarios['Obl2'] = pd.cut(scenarios['Obligacja2'], bins=np.unique([-float('inf'),*mp_z.loc['B'].values]), labels=letters[1:-1])\n",
    "# scenarios['Obl3'] = pd.cut(scenarios['Obligacja3'], bins=np.unique([-float('inf'),*mp_z.loc['CCC'].values]), labels=letters[3:])\n",
    "scenarios['OblA'] = pd.cut(scenarios['Obligacja1'], bins=value_rangeA, labels=letters)\n",
    "scenarios['OblB'] = pd.cut(scenarios['Obligacja2'], bins=value_rangeB, labels=letters)\n",
    "scenarios['OblCCC'] = pd.cut(scenarios['Obligacja3'], bins=value_rangeCCC, labels=letters)\n",
    "scenarios = scenarios[['OblA', 'OblB', 'OblCCC']]"
   ]
  },
  {
   "cell_type": "markdown",
   "metadata": {},
   "source": [
    "sprawdzamy obligacje za rok, czyli mając obligacje 2,5 i 3 letnie będziemy mieli obligacje 1,4 i 2 letnie\n",
    "wycena polega na tym, że dyskontujemy wszystkie przepływy finansowe na dany moment w czasie\n",
    "jeśli jest bankrut to losujemy z rozkładu N(m,s) stopy odzysku"
   ]
  }
 ],
 "metadata": {
  "kernelspec": {
   "display_name": "base",
   "language": "python",
   "name": "python3"
  },
  "language_info": {
   "codemirror_mode": {
    "name": "ipython",
    "version": 3
   },
   "file_extension": ".py",
   "mimetype": "text/x-python",
   "name": "python",
   "nbconvert_exporter": "python",
   "pygments_lexer": "ipython3",
   "version": "3.11.5"
  }
 },
 "nbformat": 4,
 "nbformat_minor": 2
}

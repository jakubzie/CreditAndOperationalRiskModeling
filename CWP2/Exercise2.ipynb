{
 "cells": [
  {
   "cell_type": "markdown",
   "metadata": {},
   "source": [
    "Z wykorzystaniem modelu CreditMetrics wyznaczyć 99,9% VaR i ES dla portfela składającego się z portfela trzech poniżej opisanych obligacji skarbowych:\n",
    "\n",
    "    3-letnia obligacja o ratingu A (cena wykupu 100 000 zł, subordinated),\n",
    "    5-letnia obligacja o ratingu B (cena wykupu 50 000 zł, roczne kupony 5000 zł, senior secured),\n",
    "    2-letnia obligacja o ratingu CCC (cena wykupu 50 000 zł, roczne kupony 10 000 zł, senior unsecured).\n",
    "\n",
    "W badaniu założyć, że współczynniki korelacji między inwestycjami w portfelu wynoszą: r12 = 0.2, r13 = 0.15, r23 = 0.4.\n",
    "\n",
    "Zbadać, w jaki sposób zmieniłyby się wyniki, jeśli założylibyśmy, że inwestycje w portfelu nie są skorelowane. Jak uzyskane wyniki łączą się z pojęciem \"dywersyfikacji ryzyka\".\n",
    "Na podstawie dokumentacji technicznej CreditMetrics na przykładzie opisać, jakie są sposoby wyznaczania korelacji w modelu."
   ]
  },
  {
   "cell_type": "code",
   "execution_count": 235,
   "metadata": {},
   "outputs": [],
   "source": [
    "import numpy as np\n",
    "import pandas as pd"
   ]
  },
  {
   "cell_type": "code",
   "execution_count": 236,
   "metadata": {},
   "outputs": [],
   "source": [
    "#macierz przejścia dla ratingów\n",
    "mp = np.array([\n",
    "    [93.40, 5.94, 0.64, 0.00, 0.02, 0.00, 0.00, 0.00],\n",
    "    [1.61, 90.55, 7.46, 0.26, 0.09, 0.01, 0.00, 0.02],\n",
    "    [0.07, 2.28, 92.44, 4.63, 0.45, 0.12, 0.01, 0.00],\n",
    "    [0.05, 0.26, 5.51, 88.48, 4.76, 0.71, 0.08, 0.15],\n",
    "    [0.02, 0.05, 0.42, 5.16, 86.91, 5.91, 0.24, 1.29],\n",
    "    [0.00, 0.04, 0.13, 0.54, 6.35, 84.22, 1.91, 6.81],\n",
    "    [0.00, 0.00, 0.00, 0.62, 2.05, 4.08, 69.20, 24.05],\n",
    "    [0.00, 0.00, 0.00, 0.00, 0.00, 0.00, 0.00, 100.00]\n",
    "])\n",
    "mp = mp/100\n",
    "mp = pd.DataFrame(mp, columns = ['AAA', 'AA', 'A', 'BBB', 'BB', 'B', 'CCC', 'Def'],\n",
    "                  index = ['AAA', 'AA', 'A', 'BBB', 'BB', 'B', 'CCC', 'Def'])"
   ]
  },
  {
   "cell_type": "code",
   "execution_count": 237,
   "metadata": {},
   "outputs": [],
   "source": [
    "from scipy.stats import zscore\n",
    "#stworzenie kumulatywnej macierzy przejścia\n",
    "mp_cumulative = mp.cumsum(axis=1)\n",
    "mp_cumulative = mp_cumulative.div(mp_cumulative.iloc[:, -1], axis=0)"
   ]
  },
  {
   "cell_type": "code",
   "execution_count": 238,
   "metadata": {},
   "outputs": [],
   "source": [
    "import scipy.stats as st\n",
    "mp_z = mp_cumulative.copy()\n",
    "mp_z = 1 - mp_z\n",
    "mp_z = -st.norm.ppf(mp_z)\n",
    "mp_z = pd.DataFrame(mp_z, columns=mp.columns, index=mp.index)"
   ]
  },
  {
   "cell_type": "code",
   "execution_count": 239,
   "metadata": {},
   "outputs": [],
   "source": [
    "#macierz stóp zwrotu ogółem\n",
    "msz = pd.DataFrame([[3.60, 4.17, 4.73, 5.12],\n",
    "                    [3.65, 4.22, 4.78, 5.17],\n",
    "                    [3.72, 4.32, 4.93, 5.32],\n",
    "                    [4.10, 4.67, 5.25, 5.63],\n",
    "                    [5.55, 6.02, 6.78, 7.27],\n",
    "                    [6.05, 7.02, 8.03, 8.52],\n",
    "                    [15.05, 15.02, 14.03, 13.52]],\n",
    "                    columns = ['1Y', '2Y', '3Y', '4Y'],\n",
    "                    index = ['AAA', 'AA', 'A', 'BBB', 'BB', 'B', 'CCC'])\n",
    "msz = msz/100"
   ]
  },
  {
   "cell_type": "code",
   "execution_count": 240,
   "metadata": {},
   "outputs": [],
   "source": [
    "#stopa odzysku według klasy obligacji\n",
    "data = {'Mean': [53.80, 51.13, 38.52, 32.74, 17.09],\n",
    "        'SD': [26.86, 25.45, 23.81, 20.18, 10.90]}\n",
    "mso = pd.DataFrame(data,index = [\"Senior Secured\", \"Senior Unsecured\",\n",
    "                                 \"Senior Subordinated\", \"Subordinated\", \"Junior Subordinated\"])\n",
    "mso = mso/100"
   ]
  },
  {
   "cell_type": "code",
   "execution_count": 241,
   "metadata": {},
   "outputs": [],
   "source": [
    "mcorr = pd.DataFrame([[1.0, 0.2, 0.15],\n",
    "                      [0.2, 1.0, 0.4],\n",
    "                      [0.15, 0.4, 1.0]],\n",
    "                      columns=['r1', 'r2', 'r3'],\n",
    "                      index=['r1', 'r2', 'r3'])"
   ]
  },
  {
   "cell_type": "code",
   "execution_count": 242,
   "metadata": {},
   "outputs": [],
   "source": [
    "valA = 100000 #subordinated\n",
    "valB = 50000 #senior secured\n",
    "couponB = 5000\n",
    "valCCC = 50000 #senior unsecured\n",
    "couponCCC = 10000"
   ]
  },
  {
   "cell_type": "code",
   "execution_count": 243,
   "metadata": {},
   "outputs": [],
   "source": [
    "#wycena obligacji bez zmiany ratingu\n",
    "#bez kupony\n",
    "def bond_valuation_nc(value, msz, maturity, rating):\n",
    "    return value/(1+msz.loc[rating, '{}Y'.format(maturity-1)])\n",
    "#z kuponami\n",
    "def bond_valuation_c(value, msz, maturity, coupon, rating):\n",
    "    return np.sum([coupon / (1 + msz.loc[rating,'{}Y'.format(maturity-1)]) ** i for i in range(2, maturity + 1)]) + (value / (1 + msz.loc[rating,'{}Y'.format(maturity-1)]) ** maturity)"
   ]
  },
  {
   "cell_type": "code",
   "execution_count": 244,
   "metadata": {},
   "outputs": [],
   "source": [
    "#wycena portfela bez zmiany ratingu\n",
    "portfolio_value = bond_valuation_nc(valA, msz, 3, 'A') + bond_valuation_c(valB, msz, 5, couponB, 'B') + bond_valuation_c(valCCC, msz, 2, couponCCC, 'CCC')"
   ]
  },
  {
   "cell_type": "code",
   "execution_count": 245,
   "metadata": {},
   "outputs": [],
   "source": [
    "import numpy as np\n",
    "# Symulacja scenariuszy\n",
    "#np.random.seed(123)\n",
    "num_scenarios = 10000\n",
    "scenarios = np.random.multivariate_normal(mean=np.zeros(len(mcorr)), cov=mcorr, size=num_scenarios)\n",
    "scenarios = pd.DataFrame(scenarios, columns=[\"Obligacja1\",\"Obligacja2\",\"Obligacja3\"])\n",
    "\n",
    "value_rangeA = [-float('inf'),-3.19, -1.99, 1.63, 2.52, 3.01, 3.72, 3.73, float('inf')]\n",
    "value_rangeB = [-float('inf'),-3.5, -3.35, -2.93, -2.45, -1.47, 1.36, 1.49, float('inf')]\n",
    "value_rangeCCC = [-float('inf'),-4, -3.5, -3, -2.50, -1.93, -1.49, 0.70, float('inf')]\n",
    "letters = ['Def', 'CCC', 'B', 'BB', 'BBB', 'A', 'AA', 'AAA']\n",
    "letters = letters[::-1]\n",
    "\n",
    "scenarios['OblA'] = pd.cut(scenarios['Obligacja1'], bins=value_rangeA, labels=letters)\n",
    "scenarios['OblB'] = pd.cut(scenarios['Obligacja2'], bins=value_rangeB, labels=letters)\n",
    "scenarios['OblCCC'] = pd.cut(scenarios['Obligacja3'], bins=value_rangeCCC, labels=letters)\n",
    "scenarios = scenarios[['OblA', 'OblB', 'OblCCC']]"
   ]
  },
  {
   "cell_type": "code",
   "execution_count": 246,
   "metadata": {},
   "outputs": [],
   "source": [
    "def value_when_bankrupt(value, seniority):\n",
    "    val = value * np.random.normal(mso.loc[seniority, 'Mean'], (mso.loc[seniority, 'SD']))\n",
    "    if(val<0):\n",
    "        return -val\n",
    "    else:\n",
    "        return val"
   ]
  },
  {
   "cell_type": "code",
   "execution_count": 247,
   "metadata": {},
   "outputs": [],
   "source": [
    "scenarios['Valuation_A'] = scenarios.apply(lambda column: value_when_bankrupt(valA, 'Subordinated') if column['OblA'] == 'Def' else bond_valuation_nc(valA, msz, 3, column['OblA']), axis=1)\n",
    "scenarios['Valuation_B'] = scenarios.apply(lambda column: value_when_bankrupt(valB, 'Senior Secured') if column['OblB'] == 'Def' else bond_valuation_c(valB, msz, 5, couponB, column['OblB']), axis=1)\n",
    "scenarios['Valuation_CCC'] = scenarios.apply(lambda column: value_when_bankrupt(valCCC, 'Senior Unsecured') if column['OblCCC'] == 'Def' else bond_valuation_c(valCCC, msz, 2, couponCCC, column['OblCCC']), axis=1)\n",
    "scenarios[\"Portfolio Value\"] = scenarios['Valuation_A'] + scenarios['Valuation_B'] + scenarios['Valuation_CCC']\n",
    "scenarios[\"Portfolio Diff\"] =  portfolio_value - scenarios[\"Portfolio Value\"]\n",
    "differences = scenarios[\"Portfolio Diff\"]"
   ]
  },
  {
   "cell_type": "code",
   "execution_count": 248,
   "metadata": {},
   "outputs": [
    {
     "name": "stdout",
     "output_type": "stream",
     "text": [
      "75715.44934315071\n",
      "84699.09124253807\n"
     ]
    }
   ],
   "source": [
    "var = differences.quantile(0.999)\n",
    "print(var)\n",
    "\n",
    "cvar = differences[differences >= var].quantile(0.999)\n",
    "print(cvar)\n"
   ]
  },
  {
   "cell_type": "code",
   "execution_count": 258,
   "metadata": {},
   "outputs": [
    {
     "name": "stderr",
     "output_type": "stream",
     "text": [
      "c:\\Users\\lenovo\\anaconda3\\Lib\\site-packages\\seaborn\\_oldcore.py:1498: FutureWarning: is_categorical_dtype is deprecated and will be removed in a future version. Use isinstance(dtype, CategoricalDtype) instead\n",
      "  if pd.api.types.is_categorical_dtype(vector):\n",
      "c:\\Users\\lenovo\\anaconda3\\Lib\\site-packages\\seaborn\\_oldcore.py:1119: FutureWarning: use_inf_as_na option is deprecated and will be removed in a future version. Convert inf values to NaN before operating instead.\n",
      "  with pd.option_context('mode.use_inf_as_na', True):\n"
     ]
    },
    {
     "data": {
      "image/png": "[encoded data removed]",
      "text/plain": [
       "<Figure size 640x480 with 1 Axes>"
      ]
     },
     "metadata": {},
     "output_type": "display_data"
    }
   ],
   "source": [
    "import seaborn as sns\n",
    "import matplotlib.pyplot as plt\n",
    "\n",
    "# Plot KDE plot\n",
    "sns.kdeplot(differences, color='blue', label='KDE')\n",
    "\n",
    "# Plot histogram\n",
    "#sns.histplot(differences, label='Histogram')\n",
    "\n",
    "# Set labels and title\n",
    "plt.xlabel('Differences')\n",
    "plt.ylabel('Density')\n",
    "plt.title('KDE Plot and Histogram')\n",
    "\n",
    "# Show legend\n",
    "plt.legend()\n",
    "\n",
    "# Show the plot\n",
    "plt.show()\n",
    "\n"
   ]
  },
  {
   "cell_type": "markdown",
   "metadata": {},
   "source": [
    "sprawdzamy obligacje za rok, czyli mając obligacje 2,5 i 3 letnie będziemy mieli obligacje 1,4 i 2 letnie\n",
    "wycena polega na tym, że dyskontujemy wszystkie przepływy finansowe na dany moment w czasie\n",
    "jeśli jest bankrut to losujemy z rozkładu N(m,s) stopy odzysku"
   ]
  }
 ],
 "metadata": {
  "kernelspec": {
   "display_name": "base",
   "language": "python",
   "name": "python3"
  },
  "language_info": {
   "codemirror_mode": {
    "name": "ipython",
    "version": 3
   },
   "file_extension": ".py",
   "mimetype": "text/x-python",
   "name": "python",
   "nbconvert_exporter": "python",
   "pygments_lexer": "ipython3",
   "version": "3.11.5"
  }
 },
 "nbformat": 4,
 "nbformat_minor": 2
}

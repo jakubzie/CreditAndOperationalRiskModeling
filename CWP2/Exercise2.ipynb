{
 "cells": [
  {
   "cell_type": "markdown",
   "metadata": {},
   "source": [
    "## Zadanie 2\n",
    "\n",
    "### Zadania teoretyczne\n",
    "#### Wyjaśnić pojęcie ratingów, jakie poziomy ratingów stosują najbardziej znane agencje ratingowe?\n",
    "Ratingi to jeden ze sposobów na ocenę poziomu ryzyka kredytowego, wystawiany przez agencje ratingowe dla dużych podmiotów na rynku. Określają one pewne przedziały prawdopodobieństwa niewypłacalności. Ratingi wystawiane są w postaci liter, główne agencje stosują oznaczenia AAA, AA, A, BBB, BB, B, CCC lub Aaa, Aa, A, Baa, Ba, B, Caa, w zależności od agencji. Oznaczenia podane są malejąco, tak więc rating AAA jest najlepszy i oznacza najmniejsze prawdopodobieństwo bankructwa, np. 1.5%, natomiast AA będzie od niego gorszy i może oznaczać prawdopodobieństwo bankructwa na poziomie np. 3.5%. \n",
    "\n",
    "#### Wyjaśnić ideę modelu CreditMetrics. Na czym on bazuje i w jaki sposób opisuje ryzyko kredytowe?\n",
    "Model CreditMetrics jest modelem służącym do wyznaczania ryzyka kredytowego. Bazuje on na idei VaR, czyli maksymalnej spodziewanej stracie o danym prawdopodobieństwie i horyzoncie czasowym. CreditMetrics korzysta z niego aby przedstawić ryzyko, natomiast używa do tego różnych informacji, m.in. ratingów dla badanych podmiotów czy instrumentów, które dostarczają informacji o prawdopodobieństwie bankructwa i stopach zwrotu, czy tzw. seniority, które odpowiada za stopy odzysku w przypadku kiedy podmiot zbankrutuje i nie będzie w stanie spłacić swoich zobowiązań. \n",
    "\n",
    "### Zadanie praktyczne\n",
    "Z wykorzystaniem modelu CreditMetrics wyznaczyć 99,9% VaR i ES dla portfela składającego się z portfela trzech poniżej opisanych obligacji skarbowych:\n",
    "\n",
    "- 3-letnia obligacja o ratingu A (cena wykupu 100 000 zł, subordinated),\n",
    "- 5-letnia obligacja o ratingu B (cena wykupu 50 000 zł, roczne kupony 5000 zł, senior secured),\n",
    "- 2-letnia obligacja o ratingu CCC (cena wykupu 50 000 zł, roczne kupony 10 000 zł, senior unsecured).\n",
    "\n",
    "W badaniu założyć, że współczynniki korelacji między inwestycjami w portfelu wynoszą: r12 = 0.2, r13 = 0.15, r23 = 0.4.\n",
    "\n",
    "Zbadać, w jaki sposób zmieniłyby się wyniki, jeśli założylibyśmy, że inwestycje w portfelu nie są skorelowane. Jak uzyskane wyniki łączą się z pojęciem \"dywersyfikacji ryzyka\".\n",
    "Na podstawie dokumentacji technicznej CreditMetrics na przykładzie opisać, jakie są sposoby wyznaczania korelacji w modelu."
   ]
  },
  {
   "cell_type": "markdown",
   "metadata": {},
   "source": [
    "W modelu CreditMetrics korelację w modelu można wyznaczyć poprzez połączenie korelacji między zmianami spreadów, czyli różnic między kursami sprzedaży i kupna obligacji, z modelem który łączy ceny z wydarzeniami kredytowymi. Aby tego dokonać należy posiadać wyżej wspomniany model oraz historię cen obligacji, z której to właśnie można obliczyć spready. Dzięki takiemu połączeniu specjaliści są w stanie dojść do korelacji między zmianami ratingów. Dla naszego zadania polegałoby to na znalezieniu historii cen każdej obligacji z osobna oraz obliczenie na jej podstawie spreadów. Następnie należałoby zbadać to jak spready razem się zmieniają i wyznaczyć korelację. Później trzeba zbudować odpowiedni model, który te zmiany odpowiednio zmapuje z wydarzeniami. Ostatecznie należy połączyć dwa poprzednie elementy."
   ]
  },
  {
   "cell_type": "code",
   "execution_count": 13,
   "metadata": {},
   "outputs": [],
   "source": [
    "import numpy as np\n",
    "import pandas as pd\n",
    "import scipy.stats as st\n",
    "import seaborn as sns\n",
    "import matplotlib.pyplot as plt\n",
    "import warnings\n",
    "warnings.filterwarnings('ignore')"
   ]
  },
  {
   "cell_type": "markdown",
   "metadata": {},
   "source": [
    "W pierwszej kolejności wprowadzam dane potrzebne do rozwiązania zadania."
   ]
  },
  {
   "cell_type": "code",
   "execution_count": 14,
   "metadata": {},
   "outputs": [],
   "source": [
    "#macierz przejścia dla ratingów\n",
    "mp = np.array([\n",
    "    [93.40, 5.94, 0.64, 0.00, 0.02, 0.00, 0.00, 0.00],\n",
    "    [1.61, 90.55, 7.46, 0.26, 0.09, 0.01, 0.00, 0.02],\n",
    "    [0.07, 2.28, 92.44, 4.63, 0.45, 0.12, 0.01, 0.00],\n",
    "    [0.05, 0.26, 5.51, 88.48, 4.76, 0.71, 0.08, 0.15],\n",
    "    [0.02, 0.05, 0.42, 5.16, 86.91, 5.91, 0.24, 1.29],\n",
    "    [0.00, 0.04, 0.13, 0.54, 6.35, 84.22, 1.91, 6.81],\n",
    "    [0.00, 0.00, 0.00, 0.62, 2.05, 4.08, 69.20, 24.05],\n",
    "    [0.00, 0.00, 0.00, 0.00, 0.00, 0.00, 0.00, 100.00]\n",
    "])\n",
    "mp = mp/100\n",
    "mp = pd.DataFrame(mp, columns = ['AAA', 'AA', 'A', 'BBB', 'BB', 'B', 'CCC', 'Def'],\n",
    "                  index = ['AAA', 'AA', 'A', 'BBB', 'BB', 'B', 'CCC', 'Def'])"
   ]
  },
  {
   "cell_type": "code",
   "execution_count": 15,
   "metadata": {},
   "outputs": [],
   "source": [
    "#macierz stóp zwrotu ogółem\n",
    "msz = pd.DataFrame([[3.60, 4.17, 4.73, 5.12],\n",
    "                    [3.65, 4.22, 4.78, 5.17],\n",
    "                    [3.72, 4.32, 4.93, 5.32],\n",
    "                    [4.10, 4.67, 5.25, 5.63],\n",
    "                    [5.55, 6.02, 6.78, 7.27],\n",
    "                    [6.05, 7.02, 8.03, 8.52],\n",
    "                    [15.05, 15.02, 14.03, 13.52]],\n",
    "                    columns = ['1Y', '2Y', '3Y', '4Y'],\n",
    "                    index = ['AAA', 'AA', 'A', 'BBB', 'BB', 'B', 'CCC'])\n",
    "msz = msz/100"
   ]
  },
  {
   "cell_type": "code",
   "execution_count": 16,
   "metadata": {},
   "outputs": [],
   "source": [
    "#stopa odzysku według klasy obligacji\n",
    "data = {'Mean': [53.80, 51.13, 38.52, 32.74, 17.09],\n",
    "        'SD': [26.86, 25.45, 23.81, 20.18, 10.90]}\n",
    "mso = pd.DataFrame(data,index = [\"Senior Secured\", \"Senior Unsecured\",\n",
    "                                 \"Senior Subordinated\", \"Subordinated\", \"Junior Subordinated\"])\n",
    "mso = mso/100"
   ]
  },
  {
   "cell_type": "code",
   "execution_count": 17,
   "metadata": {},
   "outputs": [],
   "source": [
    "#macierz korelacji \n",
    "mcorr = pd.DataFrame([[1.0, 0.2, 0.15],\n",
    "                      [0.2, 1.0, 0.4],\n",
    "                      [0.15, 0.4, 1.0]],\n",
    "                      columns=['r1', 'r2', 'r3'],\n",
    "                      index=['r1', 'r2', 'r3'])"
   ]
  },
  {
   "cell_type": "markdown",
   "metadata": {},
   "source": [
    "Następnym krokiem będzie stworzenie kumulatywnej macierzy dla macierzy przejścia, dzięki której będę w stanie obliczyć przedziały dla losowanych scenariuszy.\\\n",
    "W każdym scenariuszu wylosowana zostanie liczba losowa z rozkładu normalnego, dlatego tutaj też wyznaczamy przedziały dla takiego rozkładu."
   ]
  },
  {
   "cell_type": "code",
   "execution_count": 18,
   "metadata": {},
   "outputs": [],
   "source": [
    "#stworzenie kumulatywnej macierzy przejścia\n",
    "mp_cumulative = mp.cumsum(axis=1)\n",
    "mp_cumulative = mp_cumulative.div(mp_cumulative.iloc[:, -1], axis=0)\n",
    "\n",
    "#na podstawie kumulatywnej macierzy przejścia obliczamy macierz z-score\n",
    "mp_z = mp_cumulative.copy()\n",
    "mp_z = 1 - mp_z\n",
    "mp_z = -st.norm.ppf(mp_z)\n",
    "mp_z = pd.DataFrame(mp_z, columns=mp.columns, index=mp.index)"
   ]
  },
  {
   "cell_type": "markdown",
   "metadata": {},
   "source": [
    "Następnie definiuję funkcje służące do wyceny obligacji. Obligacje mogą być również zero-kuponowe, dlatego potrzebuję dwóch osobnych funkcji do obliczania wartości poszczególnych typów obligacji."
   ]
  },
  {
   "cell_type": "code",
   "execution_count": 19,
   "metadata": {},
   "outputs": [],
   "source": [
    "#definiujemy funkcje służące do wyceny obligacji z kuponami i bez kuponów\n",
    "#bez kuponów\n",
    "def bond_valuation_nc(value, msz, maturity, rating):\n",
    "    return value/(1+msz.loc[rating, '{}Y'.format(maturity-1)])\n",
    "#z kuponami\n",
    "def bond_valuation_c(value, msz, maturity, coupon, rating):\n",
    "    return np.sum([coupon / (1 + msz.loc[rating,'{}Y'.format(maturity-1)]) ** i for i in range(2, maturity + 1)]) + (value / (1 + msz.loc[rating,'{}Y'.format(maturity-1)]) ** maturity)"
   ]
  },
  {
   "cell_type": "markdown",
   "metadata": {},
   "source": [
    "Wprowadzam dane o odpowiednich obligacjach z zadania."
   ]
  },
  {
   "cell_type": "code",
   "execution_count": 20,
   "metadata": {},
   "outputs": [],
   "source": [
    "#wprowadzamy dane o obligacjach z zadania\n",
    "valA = 100000 #subordinated, 3-letnia, bez kuponów\n",
    "valB = 50000 #senior secured, 5-letnia\n",
    "couponB = 5000\n",
    "valCCC = 50000 #senior unsecured, 2-letnia\n",
    "couponCCC = 10000"
   ]
  },
  {
   "cell_type": "markdown",
   "metadata": {},
   "source": [
    "Z użyciem zdefiniowanych wcześniej funkcji, wyznaczam wartość portfela przy założeniu, że żaden z ratingów nie zmieni się w ciągu roku."
   ]
  },
  {
   "cell_type": "code",
   "execution_count": 21,
   "metadata": {},
   "outputs": [
    {
     "name": "stdout",
     "output_type": "stream",
     "text": [
      "Wartość portfela bez zmiany ratingu: 189495.20 zł\n"
     ]
    }
   ],
   "source": [
    "#wycena portfela bez zmiany ratingu\n",
    "portfolio_value = bond_valuation_nc(valA, msz, 3, 'A') + bond_valuation_c(valB, msz, 5, couponB, 'B') + bond_valuation_c(valCCC, msz, 2, couponCCC, 'CCC')\n",
    "print('Wartość portfela bez zmiany ratingu: {:.2f} zł'.format(portfolio_value))"
   ]
  },
  {
   "cell_type": "markdown",
   "metadata": {},
   "source": [
    "Następnie symuluję scenariusze.\\\n",
    "Z rozkładu normalnego losuję liczby i tworzę z nich macierz.\\\n",
    "Następnie na podstawie wyznaczonej wcześniej macierzy z-score wyznaczam przedziały odpowiadające zmianie na odpowiednie ratingi.\\\n",
    "Bazując na powyższych przedziałach przypisuję końcowe ratingi dla symulowanych scenariuszy.\\\n",
    "Dla każdego \"bazowego\" ratingu, czyli tego od którego wychodzimy na początku, przedziały będą inne ponieważ szanse zmiany na inne ratingi różnią się dla każdego ratingu."
   ]
  },
  {
   "cell_type": "code",
   "execution_count": 22,
   "metadata": {},
   "outputs": [],
   "source": [
    "# Symulacja scenariuszy\n",
    "#np.random.seed(123)\n",
    "num_scenarios = 10000\n",
    "#losujemy liczby losowe z rozkładu normalnego o zadanej macierzy korelacji\n",
    "scenarios = np.random.multivariate_normal(mean=np.zeros(len(mcorr)), cov=mcorr, size=num_scenarios)\n",
    "scenarios = pd.DataFrame(scenarios, columns=[\"Obligacja1\",\"Obligacja2\",\"Obligacja3\"])\n",
    "\n",
    "#wprowadzamy przedziały dla z-score odpowiadające zmianom ratingów\n",
    "value_rangeA = [-float('inf'),-3.19, -1.99, 1.63, 2.52, 3.01, 3.72, 3.73, float('inf')]\n",
    "value_rangeB = [-float('inf'),-3.5, -3.35, -2.93, -2.45, -1.47, 1.36, 1.49, float('inf')]\n",
    "value_rangeCCC = [-float('inf'),-4, -3.5, -3, -2.50, -1.93, -1.49, 0.70, float('inf')]\n",
    "letters = ['Def', 'CCC', 'B', 'BB', 'BBB', 'A', 'AA', 'AAA']\n",
    "letters = letters[::-1]\n",
    "\n",
    "#na podstawie wyznaczonych przedziałów przypisujemy ratingi do scenariuszy\n",
    "scenarios['OblA'] = pd.cut(scenarios['Obligacja1'], bins=value_rangeA, labels=letters)\n",
    "scenarios['OblB'] = pd.cut(scenarios['Obligacja2'], bins=value_rangeB, labels=letters)\n",
    "scenarios['OblCCC'] = pd.cut(scenarios['Obligacja3'], bins=value_rangeCCC, labels=letters)\n",
    "scenarios = scenarios[['OblA', 'OblB', 'OblCCC']]"
   ]
  },
  {
   "cell_type": "markdown",
   "metadata": {},
   "source": [
    "Przed rozpoczęciem obliczania wartości zasymulowanych portfeli definiuję funkcję, która pozwoli obsłużyć nam przypadek, w którym końcowy rating oznacza bankructwo.\\\n",
    "W przypadku bankructwa funkcja przyjmuje typ obligacji i na jego podstawie losuje procentowy zwrot ceny korzystając z rozkładu normalnego o odpowiedniej średniej i odchyleniu standardowym."
   ]
  },
  {
   "cell_type": "code",
   "execution_count": 23,
   "metadata": {},
   "outputs": [],
   "source": [
    "#definiujemy funkcję która zwraca wartość obligacji w przypadku bankructwa\n",
    "def value_when_bankrupt(value, seniority):\n",
    "    val = value * np.random.normal(mso.loc[seniority, 'Mean'], (mso.loc[seniority, 'SD']))\n",
    "    if(val<0):\n",
    "        return -val\n",
    "    else:\n",
    "        return val"
   ]
  },
  {
   "cell_type": "markdown",
   "metadata": {},
   "source": [
    "Wykorzystując powyższe funkcje wyznaczamy wartości kolejnych obligacji dla wylosowanych scenariuszy.\\\n",
    "Najpierw sprawdzamy czy końcowym ratingiem nie jest \"Def\" odpowiadający za bankructwo. Jeśli tak, zwracamy wartość obliczoną na podstawie wylosowanej stopy odzysku.\\\n",
    "W przeciwnym wypadku wyceniamy obligację.\\\n",
    "Następnie obliczam całkowitą wartość portfela oraz różnicę od portfela bazowego (bez jakiejkolwiek zmiany ratingu)."
   ]
  },
  {
   "cell_type": "code",
   "execution_count": 24,
   "metadata": {},
   "outputs": [],
   "source": [
    "#przypisujemy wartości obligacji w zależności od ratingu dla scenariuszy\n",
    "scenarios['Valuation_A'] = scenarios.apply(lambda column: value_when_bankrupt(valA, 'Subordinated') if column['OblA'] == 'Def' else bond_valuation_nc(valA, msz, 3, column['OblA']), axis=1)\n",
    "scenarios['Valuation_B'] = scenarios.apply(lambda column: value_when_bankrupt(valB, 'Senior Secured') if column['OblB'] == 'Def' else bond_valuation_c(valB, msz, 5, couponB, column['OblB']), axis=1)\n",
    "scenarios['Valuation_CCC'] = scenarios.apply(lambda column: value_when_bankrupt(valCCC, 'Senior Unsecured') if column['OblCCC'] == 'Def' else bond_valuation_c(valCCC, msz, 2, couponCCC, column['OblCCC']), axis=1)\n",
    "#obliczamy całkowitą wartość portfela dla każdego scenariusza\n",
    "scenarios[\"Portfolio Value\"] = scenarios['Valuation_A'] + scenarios['Valuation_B'] + scenarios['Valuation_CCC']\n",
    "#obliczamy różnicę między wartością portfela w scenariuszu a wartością portfela bez zmiany ratingu\n",
    "scenarios[\"Portfolio Diff\"] =  portfolio_value - scenarios[\"Portfolio Value\"]\n",
    "differences = scenarios[\"Portfolio Diff\"]"
   ]
  },
  {
   "cell_type": "markdown",
   "metadata": {},
   "source": [
    "Na podstawie rozkładu strat wyliczonych powyżej, wyznaczam 99,9% VaR oraz ES."
   ]
  },
  {
   "cell_type": "code",
   "execution_count": 25,
   "metadata": {},
   "outputs": [
    {
     "name": "stdout",
     "output_type": "stream",
     "text": [
      "99.9% VaR wynosi 76262.64\n",
      "99.9% ES wynosi 89536.99\n"
     ]
    }
   ],
   "source": [
    "#obliczamy VaR oraz ES\n",
    "var = differences.quantile(0.999)\n",
    "print(\"99.9% VaR wynosi {:.2f}\".format(var))\n",
    "\n",
    "cvar = differences[differences >= var].quantile(0.999)\n",
    "print(\"99.9% ES wynosi {:.2f}\".format(cvar))\n"
   ]
  },
  {
   "cell_type": "code",
   "execution_count": 26,
   "metadata": {},
   "outputs": [
    {
     "data": {
      "image/png": "[encoded data removed]",
      "text/plain": [
       "<Figure size 640x480 with 1 Axes>"
      ]
     },
     "metadata": {},
     "output_type": "display_data"
    }
   ],
   "source": [
    "sns.kdeplot(differences, color='blue')\n",
    "plt.xlabel('Straty')\n",
    "plt.ylabel('Gęstość')\n",
    "plt.title('Dystrybuanta strat dla symulacji')\n",
    "plt.show()"
   ]
  },
  {
   "cell_type": "markdown",
   "metadata": {},
   "source": [
    "Jak widać na powyższym wykresie zasymulowane straty faktycznie można uznać za przypominające sytuację rzeczywistą. Większość z nich skupia się wokół 0, natomiast prawy ogon jest zdecydowanie bardziej wydłużony niż ogon lewy. Oznacza to, że obniżenie ratingu następowało częściej niż jego podniesienie. Ponadto wysokie straty spowodowane są udziałem ratingu CCC, który ma wysokie prawdopodobieństwo spadku na poziom bankructwa (trochę powyżej 24%), przez co brana pod uwagę jest jedynie stopa odzysku z całej obligacji."
   ]
  },
  {
   "cell_type": "markdown",
   "metadata": {},
   "source": [
    "Aby porównać wyniki symulacji z wykorzystaniem macierzy korelacji i bez jej wykorzystania, przeprowadzę kolejną symulację.\\\n",
    "Powyższy algorytm wykonam 1000 razy i stworzę rozkład otrzymanych współczynników ryzyka.\\\n",
    "Następnie 1000 razy przeprowadzę analogiczny algorytm ale bez uwzględniania macierzy korelacji."
   ]
  },
  {
   "cell_type": "code",
   "execution_count": 33,
   "metadata": {},
   "outputs": [],
   "source": [
    "vars_corr = []\n",
    "cvars_corr = []\n",
    "for i in range(1000):\n",
    "    num_scenarios = 1000\n",
    "    scenarios = np.random.multivariate_normal(mean=np.zeros(len(mcorr)), cov=mcorr, size=num_scenarios)\n",
    "    scenarios = pd.DataFrame(scenarios, columns=[\"Obligacja1\",\"Obligacja2\",\"Obligacja3\"])\n",
    "\n",
    "    scenarios['OblA'] = pd.cut(scenarios['Obligacja1'], bins=value_rangeA, labels=letters)\n",
    "    scenarios['OblB'] = pd.cut(scenarios['Obligacja2'], bins=value_rangeB, labels=letters)\n",
    "    scenarios['OblCCC'] = pd.cut(scenarios['Obligacja3'], bins=value_rangeCCC, labels=letters)\n",
    "    scenarios = scenarios[['OblA', 'OblB', 'OblCCC']]\n",
    "\n",
    "    scenarios['Valuation_A'] = scenarios.apply(lambda column: value_when_bankrupt(valA, 'Subordinated') if column['OblA'] == 'Def' else bond_valuation_nc(valA, msz, 3, column['OblA']), axis=1)\n",
    "    scenarios['Valuation_B'] = scenarios.apply(lambda column: value_when_bankrupt(valB, 'Senior Secured') if column['OblB'] == 'Def' else bond_valuation_c(valB, msz, 5, couponB, column['OblB']), axis=1)\n",
    "    scenarios['Valuation_CCC'] = scenarios.apply(lambda column: value_when_bankrupt(valCCC, 'Senior Unsecured') if column['OblCCC'] == 'Def' else bond_valuation_c(valCCC, msz, 2, couponCCC, column['OblCCC']), axis=1)\n",
    "    scenarios[\"Portfolio Value\"] = scenarios['Valuation_A'] + scenarios['Valuation_B'] + scenarios['Valuation_CCC']\n",
    "    scenarios[\"Portfolio Diff\"] =  portfolio_value - scenarios[\"Portfolio Value\"]\n",
    "    differences = scenarios[\"Portfolio Diff\"]\n",
    "\n",
    "    var = differences.quantile(0.999)\n",
    "    cvar = differences[differences >= var].quantile(0.999)\n",
    "\n",
    "    vars_corr.append(var)\n",
    "    cvars_corr.append(cvar)\n",
    "correlation_results = pd.DataFrame({'VaR': vars_corr, 'ES': cvars_corr})\n",
    "\n",
    "vars_nocorr = []\n",
    "cvars_nocorr = []\n",
    "for i in range(1000):\n",
    "    num_scenarios = 1000\n",
    "    scenarios = np.random.multivariate_normal(mean=np.zeros(3), cov=np.eye(3), size=num_scenarios)\n",
    "    scenarios = pd.DataFrame(scenarios, columns=[\"Obligacja1\",\"Obligacja2\",\"Obligacja3\"])\n",
    "\n",
    "    scenarios['OblA'] = pd.cut(scenarios['Obligacja1'], bins=value_rangeA, labels=letters)\n",
    "    scenarios['OblB'] = pd.cut(scenarios['Obligacja2'], bins=value_rangeB, labels=letters)\n",
    "    scenarios['OblCCC'] = pd.cut(scenarios['Obligacja3'], bins=value_rangeCCC, labels=letters)\n",
    "    scenarios = scenarios[['OblA', 'OblB', 'OblCCC']]\n",
    "\n",
    "    scenarios['Valuation_A'] = scenarios.apply(lambda column: value_when_bankrupt(valA, 'Subordinated') if column['OblA'] == 'Def' else bond_valuation_nc(valA, msz, 3, column['OblA']), axis=1)\n",
    "    scenarios['Valuation_B'] = scenarios.apply(lambda column: value_when_bankrupt(valB, 'Senior Secured') if column['OblB'] == 'Def' else bond_valuation_c(valB, msz, 5, couponB, column['OblB']), axis=1)\n",
    "    scenarios['Valuation_CCC'] = scenarios.apply(lambda column: value_when_bankrupt(valCCC, 'Senior Unsecured') if column['OblCCC'] == 'Def' else bond_valuation_c(valCCC, msz, 2, couponCCC, column['OblCCC']), axis=1)\n",
    "    scenarios[\"Portfolio Value\"] = scenarios['Valuation_A'] + scenarios['Valuation_B'] + scenarios['Valuation_CCC']\n",
    "    scenarios[\"Portfolio Diff\"] =  portfolio_value - scenarios[\"Portfolio Value\"]\n",
    "    differences = scenarios[\"Portfolio Diff\"]\n",
    "\n",
    "    var = differences.quantile(0.999)\n",
    "    cvar = differences[differences >= var].quantile(0.999)\n",
    "\n",
    "    vars_nocorr.append(var)\n",
    "    cvars_nocorr.append(cvar)\n",
    "no_correlation_results = pd.DataFrame({'VaR': vars_nocorr, 'ES': cvars_nocorr})"
   ]
  },
  {
   "cell_type": "markdown",
   "metadata": {},
   "source": [
    "Po przeprowadzeniu symulacji porównam otrzymane rozkłady VaR i ES. W pierwszej kolejności spójrzmy na VaR."
   ]
  },
  {
   "cell_type": "code",
   "execution_count": 55,
   "metadata": {},
   "outputs": [
    {
     "name": "stdout",
     "output_type": "stream",
     "text": [
      "                       Mean        Median          Std\n",
      "Bez korelacji  63777.448755  63613.676974  7597.573905\n",
      "Z korelacją    70738.259711  70742.316190  5761.236382\n"
     ]
    }
   ],
   "source": [
    "results = pd.DataFrame(np.array([[no_correlation_results['VaR'].mean(), no_correlation_results['VaR'].median(), no_correlation_results['VaR'].std()],\n",
    "                                [correlation_results['VaR'].mean(), correlation_results['VaR'].median(), correlation_results['VaR'].std()]]),\n",
    "                      columns=['Mean', 'Median', 'Std'], index=['Bez korelacji', 'Z korelacją'])\n",
    "print(results)\n"
   ]
  },
  {
   "cell_type": "markdown",
   "metadata": {},
   "source": [
    "Jak widać powyżej, w przypadku symulacji z korelacją wyniki VaR średnio są wyższe. Sama wartość jest tutaj trudna do interpretacji, ponieważ wyższy VaR może być tak lepszy (np. pozwala lepiej się zabezpieczyć) jak i gorszy (np. powoduje niepotrzebną akumulację środków które zamiast tego mogłyby pracować). Dla opcji z korelacją niższe jest natomiast odchylenie standardowe, które oznacza że taki wariant jest dokładniejszy i mniej się waha. Wyższe wartości wskazują jednak na to, że wysoka korelacja między obligacjami może negatywnie wpływać na straty, ponieważ kiedy spada jeden z ratingów pozostałe mają na to większa szansę. Jest to jednak też miecz obosieczny, ponieważ działa to analogicznie w przypadku zysków przy podwyższeniu ratingu. Bezpośrednio łączy się to z pojęciem \"dywersyfikacji ryzyka\", które oznacza de facto inwestowanie w różne, możliwie słabo zkorelowane ze sobą instrumenty. Dzięki takiemu postępowaniu nie narażamy się na ryzyko, że wszystkie nasze inwestycje w jednakowym czasie staną się niewypłacalne i stracimy środki.  "
   ]
  },
  {
   "cell_type": "code",
   "execution_count": 57,
   "metadata": {},
   "outputs": [
    {
     "name": "stdout",
     "output_type": "stream",
     "text": [
      "                       Mean        Median          Std\n",
      "Bez korelacji  71396.579689  70952.578249  9254.034242\n",
      "Z korelacją    77274.986107  76542.799832  8454.946885\n"
     ]
    }
   ],
   "source": [
    "results = pd.DataFrame(np.array([[no_correlation_results['ES'].mean(), no_correlation_results['ES'].median(), no_correlation_results['ES'].std()],\n",
    "                                [correlation_results['ES'].mean(), correlation_results['ES'].median(), correlation_results['ES'].std()]]),\n",
    "                      columns=['Mean', 'Median', 'Std'], index=['Bez korelacji', 'Z korelacją'])\n",
    "print(results)"
   ]
  },
  {
   "cell_type": "markdown",
   "metadata": {},
   "source": [
    "W przypadku ES oczywiście sytuacja ma się analogicznie."
   ]
  }
 ],
 "metadata": {
  "kernelspec": {
   "display_name": "base",
   "language": "python",
   "name": "python3"
  },
  "language_info": {
   "codemirror_mode": {
    "name": "ipython",
    "version": 3
   },
   "file_extension": ".py",
   "mimetype": "text/x-python",
   "name": "python",
   "nbconvert_exporter": "python",
   "pygments_lexer": "ipython3",
   "version": "3.11.5"
  }
 },
 "nbformat": 4,
 "nbformat_minor": 2
}
